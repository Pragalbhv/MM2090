{
 "cells": [
  {
   "cell_type": "code",
   "execution_count": 1,
   "metadata": {},
   "outputs": [
    {
     "data": {
      "text/plain": [
       "(a, b, c, d)"
      ]
     },
     "execution_count": 1,
     "metadata": {},
     "output_type": "execute_result"
    }
   ],
   "source": [
    "var('a','b','c','d')"
   ]
  },
  {
   "cell_type": "code",
   "execution_count": 2,
   "metadata": {},
   "outputs": [],
   "source": [
    "p= a*x**3+b*x**2+c*x+d"
   ]
  },
  {
   "cell_type": "code",
   "execution_count": null,
   "metadata": {},
   "outputs": [],
   "source": []
  },
  {
   "cell_type": "code",
   "execution_count": 7,
   "metadata": {},
   "outputs": [
    {
     "name": "stdout",
     "output_type": "stream",
     "text": [
      "[\n",
      "x == -1/18*(-I*sqrt(3) + 1)*(b^2/a^2 - 3*c/a)/(-1/27*b^3/a^3 + 1/6*b*c/a^2 - 1/2*d/a + 1/6*sqrt(-1/3*b^2*c^2 + 4/3*a*c^3 + 9*a^2*d^2 + 2/3*(2*b^3 - 9*a*b*c)*d)/a^2)^(1/3) - 1/2*(I*sqrt(3) + 1)*(-1/27*b^3/a^3 + 1/6*b*c/a^2 - 1/2*d/a + 1/6*sqrt(-1/3*b^2*c^2 + 4/3*a*c^3 + 9*a^2*d^2 + 2/3*(2*b^3 - 9*a*b*c)*d)/a^2)^(1/3) - 1/3*b/a,\n",
      "x == -1/18*(I*sqrt(3) + 1)*(b^2/a^2 - 3*c/a)/(-1/27*b^3/a^3 + 1/6*b*c/a^2 - 1/2*d/a + 1/6*sqrt(-1/3*b^2*c^2 + 4/3*a*c^3 + 9*a^2*d^2 + 2/3*(2*b^3 - 9*a*b*c)*d)/a^2)^(1/3) - 1/2*(-I*sqrt(3) + 1)*(-1/27*b^3/a^3 + 1/6*b*c/a^2 - 1/2*d/a + 1/6*sqrt(-1/3*b^2*c^2 + 4/3*a*c^3 + 9*a^2*d^2 + 2/3*(2*b^3 - 9*a*b*c)*d)/a^2)^(1/3) - 1/3*b/a,\n",
      "x == 1/9*(b^2/a^2 - 3*c/a)/(-1/27*b^3/a^3 + 1/6*b*c/a^2 - 1/2*d/a + 1/6*sqrt(-1/3*b^2*c^2 + 4/3*a*c^3 + 9*a^2*d^2 + 2/3*(2*b^3 - 9*a*b*c)*d)/a^2)^(1/3) + (-1/27*b^3/a^3 + 1/6*b*c/a^2 - 1/2*d/a + 1/6*sqrt(-1/3*b^2*c^2 + 4/3*a*c^3 + 9*a^2*d^2 + 2/3*(2*b^3 - 9*a*b*c)*d)/a^2)^(1/3) - 1/3*b/a\n",
      "]\n"
     ]
    }
   ],
   "source": [
    "n=solve(p,x)\n",
    "print(n)\n"
   ]
  },
  {
   "cell_type": "code",
   "execution_count": 8,
   "metadata": {},
   "outputs": [
    {
     "data": {
      "text/html": [
       "<html><script type=\"math/tex; mode=display\">\\newcommand{\\Bold}[1]{\\mathbf{#1}}-\\frac{{\\left(-i \\, \\sqrt{3} + 1\\right)} {\\left(\\frac{b^{2}}{a^{2}} - \\frac{3 \\, c}{a}\\right)}}{18 \\, {\\left(-\\frac{b^{3}}{27 \\, a^{3}} + \\frac{b c}{6 \\, a^{2}} - \\frac{d}{2 \\, a} + \\frac{\\sqrt{-\\frac{1}{3} \\, b^{2} c^{2} + \\frac{4}{3} \\, a c^{3} + 9 \\, a^{2} d^{2} + \\frac{2}{3} \\, {\\left(2 \\, b^{3} - 9 \\, a b c\\right)} d}}{6 \\, a^{2}}\\right)}^{\\frac{1}{3}}} - \\frac{1}{2} \\, {\\left(i \\, \\sqrt{3} + 1\\right)} {\\left(-\\frac{b^{3}}{27 \\, a^{3}} + \\frac{b c}{6 \\, a^{2}} - \\frac{d}{2 \\, a} + \\frac{\\sqrt{-\\frac{1}{3} \\, b^{2} c^{2} + \\frac{4}{3} \\, a c^{3} + 9 \\, a^{2} d^{2} + \\frac{2}{3} \\, {\\left(2 \\, b^{3} - 9 \\, a b c\\right)} d}}{6 \\, a^{2}}\\right)}^{\\frac{1}{3}} - \\frac{b}{3 \\, a}</script></html>"
      ],
      "text/plain": [
       "-1/18*(-I*sqrt(3) + 1)*(b^2/a^2 - 3*c/a)/(-1/27*b^3/a^3 + 1/6*b*c/a^2 - 1/2*d/a + 1/6*sqrt(-1/3*b^2*c^2 + 4/3*a*c^3 + 9*a^2*d^2 + 2/3*(2*b^3 - 9*a*b*c)*d)/a^2)^(1/3) - 1/2*(I*sqrt(3) + 1)*(-1/27*b^3/a^3 + 1/6*b*c/a^2 - 1/2*d/a + 1/6*sqrt(-1/3*b^2*c^2 + 4/3*a*c^3 + 9*a^2*d^2 + 2/3*(2*b^3 - 9*a*b*c)*d)/a^2)^(1/3) - 1/3*b/a"
      ]
     },
     "metadata": {},
     "output_type": "display_data"
    },
    {
     "data": {
      "text/html": [
       "<html><script type=\"math/tex; mode=display\">\\newcommand{\\Bold}[1]{\\mathbf{#1}}-\\frac{{\\left(i \\, \\sqrt{3} + 1\\right)} {\\left(\\frac{b^{2}}{a^{2}} - \\frac{3 \\, c}{a}\\right)}}{18 \\, {\\left(-\\frac{b^{3}}{27 \\, a^{3}} + \\frac{b c}{6 \\, a^{2}} - \\frac{d}{2 \\, a} + \\frac{\\sqrt{-\\frac{1}{3} \\, b^{2} c^{2} + \\frac{4}{3} \\, a c^{3} + 9 \\, a^{2} d^{2} + \\frac{2}{3} \\, {\\left(2 \\, b^{3} - 9 \\, a b c\\right)} d}}{6 \\, a^{2}}\\right)}^{\\frac{1}{3}}} - \\frac{1}{2} \\, {\\left(-i \\, \\sqrt{3} + 1\\right)} {\\left(-\\frac{b^{3}}{27 \\, a^{3}} + \\frac{b c}{6 \\, a^{2}} - \\frac{d}{2 \\, a} + \\frac{\\sqrt{-\\frac{1}{3} \\, b^{2} c^{2} + \\frac{4}{3} \\, a c^{3} + 9 \\, a^{2} d^{2} + \\frac{2}{3} \\, {\\left(2 \\, b^{3} - 9 \\, a b c\\right)} d}}{6 \\, a^{2}}\\right)}^{\\frac{1}{3}} - \\frac{b}{3 \\, a}</script></html>"
      ],
      "text/plain": [
       "-1/18*(I*sqrt(3) + 1)*(b^2/a^2 - 3*c/a)/(-1/27*b^3/a^3 + 1/6*b*c/a^2 - 1/2*d/a + 1/6*sqrt(-1/3*b^2*c^2 + 4/3*a*c^3 + 9*a^2*d^2 + 2/3*(2*b^3 - 9*a*b*c)*d)/a^2)^(1/3) - 1/2*(-I*sqrt(3) + 1)*(-1/27*b^3/a^3 + 1/6*b*c/a^2 - 1/2*d/a + 1/6*sqrt(-1/3*b^2*c^2 + 4/3*a*c^3 + 9*a^2*d^2 + 2/3*(2*b^3 - 9*a*b*c)*d)/a^2)^(1/3) - 1/3*b/a"
      ]
     },
     "metadata": {},
     "output_type": "display_data"
    }
   ],
   "source": [
    "for i in range(0,2):\n",
    "    n[i].rhs().show()"
   ]
  },
  {
   "cell_type": "markdown",
   "metadata": {},
   "source": [
    "so we cant usse normal method\n",
    "we shall use condition that the derivative must have two roots (a,b) and its roots must satisfy\n",
    "f(a).f(b)<0"
   ]
  },
  {
   "cell_type": "code",
   "execution_count": 9,
   "metadata": {},
   "outputs": [],
   "source": [
    "B=p.diff(x)"
   ]
  },
  {
   "cell_type": "code",
   "execution_count": 10,
   "metadata": {},
   "outputs": [
    {
     "data": {
      "text/plain": [
       "(x == -1/3*(b + sqrt(b^2 - 3*a*c))/a, x == -1/3*(b - sqrt(b^2 - 3*a*c))/a)"
      ]
     },
     "execution_count": 10,
     "metadata": {},
     "output_type": "execute_result"
    }
   ],
   "source": [
    "[f1,f2]=B.solve(x)\n",
    "f1,f2"
   ]
  },
  {
   "cell_type": "code",
   "execution_count": 11,
   "metadata": {},
   "outputs": [
    {
     "data": {
      "text/html": [
       "<html><script type=\"math/tex; mode=display\">\\newcommand{\\Bold}[1]{\\mathbf{#1}}\\frac{{\\left(b + \\sqrt{b^{2} - 3 \\, a c}\\right)} {\\left(b - \\sqrt{b^{2} - 3 \\, a c}\\right)}}{9 \\, a^{2}}</script></html>"
      ],
      "text/plain": [
       "1/9*(b + sqrt(b^2 - 3*a*c))*(b - sqrt(b^2 - 3*a*c))/a^2"
      ]
     },
     "metadata": {},
     "output_type": "display_data"
    }
   ],
   "source": [
    "f3=f1.rhs()*f2.rhs()\n",
    "f3.show()"
   ]
  },
  {
   "cell_type": "markdown",
   "metadata": {},
   "source": [
    "Conditions for cubic real roots\n",
    "    f3<0\n",
    "    b^2-3ac>0"
   ]
  },
  {
   "cell_type": "code",
   "execution_count": null,
   "metadata": {},
   "outputs": [],
   "source": []
  },
  {
   "cell_type": "code",
   "execution_count": null,
   "metadata": {},
   "outputs": [],
   "source": []
  },
  {
   "cell_type": "code",
   "execution_count": null,
   "metadata": {},
   "outputs": [],
   "source": []
  },
  {
   "cell_type": "code",
   "execution_count": null,
   "metadata": {},
   "outputs": [],
   "source": []
  },
  {
   "cell_type": "code",
   "execution_count": null,
   "metadata": {},
   "outputs": [],
   "source": []
  },
  {
   "cell_type": "code",
   "execution_count": null,
   "metadata": {},
   "outputs": [],
   "source": []
  },
  {
   "cell_type": "code",
   "execution_count": null,
   "metadata": {},
   "outputs": [],
   "source": []
  },
  {
   "cell_type": "code",
   "execution_count": null,
   "metadata": {},
   "outputs": [],
   "source": []
  },
  {
   "cell_type": "code",
   "execution_count": null,
   "metadata": {},
   "outputs": [],
   "source": []
  }
 ],
 "metadata": {
  "kernelspec": {
   "display_name": "SageMath 8.9",
   "language": "sage",
   "name": "sagemath"
  },
  "language_info": {
   "codemirror_mode": {
    "name": "ipython",
    "version": 3
   },
   "file_extension": ".py",
   "mimetype": "text/x-python",
   "name": "python",
   "nbconvert_exporter": "python",
   "pygments_lexer": "ipython3",
   "version": "3.7.3"
  }
 },
 "nbformat": 4,
 "nbformat_minor": 2
}
