{
 "cells": [
  {
   "cell_type": "code",
   "execution_count": 13,
   "metadata": {},
   "outputs": [
    {
     "name": "stdout",
     "output_type": "stream",
     "text": [
      "8\n"
     ]
    }
   ],
   "source": [
    "import cv2 \n",
    "import numpy as np \n",
    "\n",
    "# Input image \n",
    "img = cv2.imread('/home/pragalbhv/Desktop/homework/Assignment3/img1.png', 0)  \n",
    "par = cv2.SimpleBlobDetector_Params()\n",
    "\n",
    "par.filterByArea = True\n",
    "par.minArea = 80\n",
    "\n",
    "\n",
    "detector = cv2.SimpleBlobDetector_create(par) \n",
    " \n",
    "keypoints = detector.detect(img) \n",
    "number_of_blobs = len(keypoints) \n",
    "\n",
    "print(number_of_blobs)"
   ]
  },
  {
   "cell_type": "code",
   "execution_count": 15,
   "metadata": {},
   "outputs": [
    {
     "name": "stdout",
     "output_type": "stream",
     "text": [
      "7\n"
     ]
    }
   ],
   "source": [
    "import cv2 \n",
    "import numpy as np \n",
    "\n",
    "# Input image \n",
    "img = cv2.imread('/home/pragalbhv/Desktop/homework/Assignment3/img2.png', 0)  \n",
    "par = cv2.SimpleBlobDetector_Params()\n",
    "\n",
    "par.filterByArea = True\n",
    "par.minArea = 80\n",
    "\n",
    "\n",
    "detector = cv2.SimpleBlobDetector_create(par) \n",
    " \n",
    "keypoints = detector.detect(img) \n",
    "number_of_blobs = len(keypoints) \n",
    "\n",
    "print(number_of_blobs)"
   ]
  },
  {
   "cell_type": "code",
   "execution_count": 17,
   "metadata": {},
   "outputs": [
    {
     "name": "stdout",
     "output_type": "stream",
     "text": [
      "12\n"
     ]
    }
   ],
   "source": [
    "import cv2 \n",
    "import numpy as np \n",
    "\n",
    "# Input image \n",
    "img = cv2.imread('/home/pragalbhv/Desktop/homework/Assignment3/img3.png', 0)  \n",
    "par = cv2.SimpleBlobDetector_Params()\n",
    "\n",
    "par.filterByArea = True\n",
    "par.minArea = 80\n",
    "\n",
    "\n",
    "detector = cv2.SimpleBlobDetector_create(par) \n",
    " \n",
    "keypoints = detector.detect(img) \n",
    "number_of_blobs = len(keypoints) \n",
    "\n",
    "print(number_of_blobs)"
   ]
  },
  {
   "cell_type": "code",
   "execution_count": 18,
   "metadata": {},
   "outputs": [
    {
     "name": "stdout",
     "output_type": "stream",
     "text": [
      "5\n"
     ]
    }
   ],
   "source": [
    "import cv2 \n",
    "import numpy as np \n",
    "\n",
    "# Input image \n",
    "img = cv2.imread('/home/pragalbhv/Desktop/homework/Assignment3/img4.png', 0)  \n",
    "par = cv2.SimpleBlobDetector_Params()\n",
    "\n",
    "par.filterByArea = True\n",
    "par.minArea = 80\n",
    "\n",
    "\n",
    "detector = cv2.SimpleBlobDetector_create(par) \n",
    " \n",
    "keypoints = detector.detect(img) \n",
    "number_of_blobs = len(keypoints) \n",
    "\n",
    "print(number_of_blobs)"
   ]
  }
 ],
 "metadata": {
  "kernelspec": {
   "display_name": "Python 3",
   "language": "python",
   "name": "python3"
  },
  "language_info": {
   "codemirror_mode": {
    "name": "ipython",
    "version": 3
   },
   "file_extension": ".py",
   "mimetype": "text/x-python",
   "name": "python",
   "nbconvert_exporter": "python",
   "pygments_lexer": "ipython3",
   "version": "3.7.3"
  }
 },
 "nbformat": 4,
 "nbformat_minor": 2
}
