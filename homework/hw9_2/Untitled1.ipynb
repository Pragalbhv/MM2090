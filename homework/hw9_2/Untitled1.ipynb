{
 "cells": [
  {
   "cell_type": "code",
   "execution_count": 5,
   "metadata": {},
   "outputs": [
    {
     "name": "stdout",
     "output_type": "stream",
     "text": [
      "A =\n",
      "\n",
      "   1.0000   2.0000   3.0000\n",
      "   1.1000   2.1000   3.1000\n",
      "   2.5000   1.6000   3.3000\n",
      "\n",
      " 6.4000\n",
      " 6.4000\n",
      "-------------------------------------\n",
      " 6.4000\n",
      " 6.4000\n",
      "-------------------------------------\n",
      " 6.4000\n",
      " 6.4000\n",
      "-------------------------------------\n",
      " 6.4000\n",
      " 6.4000\n",
      "-------------------------------------\n",
      " 6.4000\n",
      " 6.4000\n",
      "-------------------------------------\n",
      " 6.4000\n",
      " 6.4000\n",
      "-------------------------------------\n"
     ]
    }
   ],
   "source": [
    "A = [1.0,2.0,3.0;\n",
    "1.1,2.1,3.1;2.5,1.6,3.3]\n",
    "for theta= 5:10\n",
    "    T = [cos(theta),sin(theta),0;\n",
    "        -sin(theta),cos(theta),0;\n",
    "        0,0,1];\n",
    "    B = T * A * T';\n",
    "    disp(trace(A));\n",
    "    disp(trace(B));\n",
    "    disp(\"-------------------------------------\");\n",
    "end"
   ]
  }
 ],
 "metadata": {
  "kernelspec": {
   "display_name": "Octave",
   "language": "octave",
   "name": "octave"
  },
  "language_info": {
   "file_extension": ".m",
   "help_links": [
    {
     "text": "GNU Octave",
     "url": "https://www.gnu.org/software/octave/support.html"
    },
    {
     "text": "Octave Kernel",
     "url": "https://github.com/Calysto/octave_kernel"
    },
    {
     "text": "MetaKernel Magics",
     "url": "https://metakernel.readthedocs.io/en/latest/source/README.html"
    }
   ],
   "mimetype": "text/x-octave",
   "name": "octave",
   "version": "4.2.2"
  }
 },
 "nbformat": 4,
 "nbformat_minor": 2
}
