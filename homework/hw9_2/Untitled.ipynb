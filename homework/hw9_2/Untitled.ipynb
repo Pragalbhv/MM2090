{
 "cells": [
  {
   "cell_type": "code",
   "execution_count": 1,
   "metadata": {},
   "outputs": [],
   "source": [
    "graphics_toolkit('gnuplot');"
   ]
  },
  {
   "cell_type": "code",
   "execution_count": null,
   "metadata": {},
   "outputs": [],
   "source": [
    "data = load('/home/pragalbhv/Junk/data.csv');\n",
    "clf;\n",
    "x = data(:,2);\n",
    "y = data(:,1);\n",
    "c=x.*y;\n",
    "%for color range\n",
    "scatter(x,y,500,c,\"filled\")\n",
    "xlabel('Values of x');\n",
    "ylabel('Values of y');\n",
    "pause;"
   ]
  },
  {
   "cell_type": "code",
   "execution_count": null,
   "metadata": {},
   "outputs": [],
   "source": [
    "scatter(x,y,500,c,\"filled\")\n",
    "xlabel('Values of x');\n",
    "ylabel('Values of y');\n",
    "pause;\n",
    "%Counthow many data points we have\n",
    "m = length(x);\n",
    "%Add a column of all ones(Intercept term) to x\n",
    "X = [ones(m,1),x];\n",
    "%Calculate theta\n",
    "theta = (pinv(X'*X))*X'*y\n",
    "%Plotting the fitted equation\n",
    "hold on;\n",
    "plot(X(:,2),X*theta,'-')\n",
    "legend('Scatter Plot','Fitted line')\n",
    "hold off\n",
    "function plotData(x,y)\n",
    "plot(x,y,'rx','MarkerSize',8);\n",
    "%plot the data\n",
    "end"
   ]
  },
  {
   "cell_type": "code",
   "execution_count": null,
   "metadata": {},
   "outputs": [],
   "source": [
    "coeffs = polyfit(x, y, 1);\n",
    "% Get fitted values\n",
    "fittedX = linspace(min(x), max(x), 200);\n",
    "fittedY = polyval(coeffs, fittedX);\n",
    "% Plot the fitted line\n",
    "hold on;\n",
    "plot(fittedX, fittedY, 'r-', 'LineWidth', 3);"
   ]
  }
 ],
 "metadata": {
  "kernelspec": {
   "display_name": "Octave",
   "language": "octave",
   "name": "octave"
  },
  "language_info": {
   "file_extension": ".m",
   "help_links": [
    {
     "text": "GNU Octave",
     "url": "https://www.gnu.org/software/octave/support.html"
    },
    {
     "text": "Octave Kernel",
     "url": "https://github.com/Calysto/octave_kernel"
    },
    {
     "text": "MetaKernel Magics",
     "url": "https://metakernel.readthedocs.io/en/latest/source/README.html"
    }
   ],
   "mimetype": "text/x-octave",
   "name": "octave",
   "version": "4.2.2"
  }
 },
 "nbformat": 4,
 "nbformat_minor": 2
}
