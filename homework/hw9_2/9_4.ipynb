{
 "cells": [
  {
   "cell_type": "markdown",
   "metadata": {},
   "source": [
    "Choose x to be a 1D array with values from 0.01 to\n",
    "0.99 in intervals of 0.02. Plot a family of curves of the\n",
    "following function for values of M ranging from 0 to 4 in\n",
    "steps of 0.5."
   ]
  },
  {
   "cell_type": "code",
   "execution_count": 62,
   "metadata": {},
   "outputs": [
    {
     "name": "stdout",
     "output_type": "stream",
     "text": [
      "x =\r\n",
      "\r\n",
      " Columns 1 through 7:\r\n",
      "\r\n",
      "   0.010000   0.030000   0.050000   0.070000   0.090000   0.110000   0.130000\r\n",
      "\r\n",
      " Columns 8 through 14:\r\n",
      "\r\n",
      "   0.150000   0.170000   0.190000   0.210000   0.230000   0.250000   0.270000\r\n",
      "\r\n",
      " Columns 15 through 21:\r\n",
      "\r\n",
      "   0.290000   0.310000   0.330000   0.350000   0.370000   0.390000   0.410000\r\n",
      "\r\n",
      " Columns 22 through 28:\r\n",
      "\r\n",
      "   0.430000   0.450000   0.470000   0.490000   0.510000   0.530000   0.550000\r\n",
      "\r\n",
      " Columns 29 through 35:\r\n",
      "\r\n",
      "   0.570000   0.590000   0.610000   0.630000   0.650000   0.670000   0.690000\r\n",
      "\r\n",
      " Columns 36 through 42:\r\n",
      "\r\n",
      "   0.710000   0.730000   0.750000   0.770000   0.790000   0.810000   0.830000\r\n",
      "\r\n",
      " Columns 43 through 49:\r\n",
      "\r\n",
      "   0.850000   0.870000   0.890000   0.910000   0.930000   0.950000   0.970000\r\n",
      "\r\n",
      " Columns 50 through 56:\r\n",
      "\r\n",
      "   0.990000   1.010000   1.030000   1.050000   1.070000   1.090000   1.110000\r\n",
      "\r\n",
      " Columns 57 through 63:\r\n",
      "\r\n",
      "   1.130000   1.150000   1.170000   1.190000   1.210000   1.230000   1.250000\r\n",
      "\r\n",
      " Columns 64 through 70:\r\n",
      "\r\n",
      "   1.270000   1.290000   1.310000   1.330000   1.350000   1.370000   1.390000\r\n",
      "\r\n",
      " Columns 71 through 77:\r\n",
      "\r\n",
      "   1.410000   1.430000   1.450000   1.470000   1.490000   1.510000   1.530000\r\n",
      "\r\n",
      " Columns 78 through 84:\r\n",
      "\r\n",
      "   1.550000   1.570000   1.590000   1.610000   1.630000   1.650000   1.670000\r\n",
      "\r\n",
      " Columns 85 through 91:\r\n",
      "\r\n",
      "   1.690000   1.710000   1.730000   1.750000   1.770000   1.790000   1.810000\r\n",
      "\r\n",
      " Columns 92 through 98:\r\n",
      "\r\n",
      "   1.830000   1.850000   1.870000   1.890000   1.910000   1.930000   1.950000\r\n",
      "\r\n",
      " Columns 99 and 100:\r\n",
      "\r\n",
      "   1.970000   1.990000\r\n",
      "\r\n"
     ]
    }
   ],
   "source": [
    "for i = 1:100\n",
    "    x(i)= -0.01+ i*0.02;\n",
    "end\n",
    "x"
   ]
  },
  {
   "cell_type": "code",
   "execution_count": 66,
   "metadata": {},
   "outputs": [
    {
     "name": "stdout",
     "output_type": "stream",
     "text": [
      "a = 0\n",
      "a =  0.50000\n",
      "a =  1\n",
      "a =  1.5000\n",
      "a =  2\n",
      "a =  2.5000\n",
      "a =  3\n",
      "a =  3.5000\n",
      "a =  4\n"
     ]
    },
    {
     "data": {
      "image/png": "[encoded data removed]",
      "text/plain": [
       "<IPython.core.display.Image object>"
      ]
     },
     "metadata": {},
     "output_type": "display_data"
    }
   ],
   "source": [
    "for M = 0:8;\n",
    "    a=M/2\n",
    "    y = x.*log(x) + (1-x).*log(1-x) + a*x.*(1-x);\n",
    "    p=plot(x,y);\n",
    "    set(p,'linewidth',[4]);\n",
    "    xlabel('value of x')\n",
    "    ylabel('value of f(x)')\n",
    "    title('plot of f(x)')\n",
    "    hold on\n",
    "end"
   ]
  }
 ],
 "metadata": {
  "kernelspec": {
   "display_name": "Octave",
   "language": "octave",
   "name": "octave"
  },
  "language_info": {
   "file_extension": ".m",
   "help_links": [
    {
     "text": "GNU Octave",
     "url": "https://www.gnu.org/software/octave/support.html"
    },
    {
     "text": "Octave Kernel",
     "url": "https://github.com/Calysto/octave_kernel"
    },
    {
     "text": "MetaKernel Magics",
     "url": "https://metakernel.readthedocs.io/en/latest/source/README.html"
    }
   ],
   "mimetype": "text/x-octave",
   "name": "octave",
   "version": "4.2.2"
  }
 },
 "nbformat": 4,
 "nbformat_minor": 2
}
